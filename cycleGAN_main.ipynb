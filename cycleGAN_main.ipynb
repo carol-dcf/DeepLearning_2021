{
  "nbformat": 4,
  "nbformat_minor": 0,
  "metadata": {
    "accelerator": "GPU",
    "colab": {
      "name": "cycleGAN main.ipynb",
      "provenance": [],
      "collapsed_sections": []
    },
    "kernelspec": {
      "display_name": "Python 3",
      "name": "python3"
    },
    "language_info": {
      "name": "python"
    }
  },
  "cells": [
    {
      "cell_type": "code",
      "metadata": {
        "id": "Nb-WN5il-2ul"
      },
      "source": [
        "from google.colab import drive\n",
        "drive.mount('/content/drive')"
      ],
      "execution_count": null,
      "outputs": []
    },
    {
      "cell_type": "code",
      "metadata": {
        "id": "hV5E3iCE-jjf"
      },
      "source": [
        "!pip install -r \"/content/drive/Shareddrives/DeepLearning_2021/Final Project/ImageTranslation/CycleGAN/requirements.txt\""
      ],
      "execution_count": null,
      "outputs": []
    },
    {
      "cell_type": "code",
      "metadata": {
        "id": "tpyhEOO6PJ2i"
      },
      "source": [
        "# UNZIP\n",
        "!unzip \"/content/drive/Shareddrives/DeepLearning_2021/Final Project/ImageTranslation/dataset.zip\""
      ],
      "execution_count": null,
      "outputs": []
    },
    {
      "cell_type": "code",
      "metadata": {
        "id": "0mSBi1EcOoR5"
      },
      "source": [
        "# TRAINING\n",
        "!python \"/content/drive/Shareddrives/DeepLearning_2021/Final Project/ImageTranslation/CycleGAN/train.py\" --dataroot \"/content/dataset\" --name NN1 --model cycle_gan --checkpoints_dir \"/content/drive/Shareddrives/DeepLearning_2021/Final Project/ImageTranslation/NN1\" --num_threads 2 --save_epoch_freq 5 --netG unet_128 --preprocess none"
      ],
      "execution_count": null,
      "outputs": []
    },
    {
      "cell_type": "code",
      "metadata": {
        "id": "o5fueRaTAdWg"
      },
      "source": [
        "# TO CONTINUE TRAINING AT LATEST EPOCH OF SOME MODEL\n",
        "!python \"/content/drive/Shareddrives/DeepLearning_2021/Final Project/ImageTranslation/CycleGAN/train.py\" --dataroot \"/content/dataset\" --name NN1 --model cycle_gan --checkpoints_dir \"/content/drive/Shareddrives/DeepLearning_2021/Final Project/ImageTranslation/NN1\" --num_threads 2 --save_epoch_freq 5 --netG unet_128 --continue_train --epoch_count 30"
      ],
      "execution_count": null,
      "outputs": []
    },
    {
      "cell_type": "code",
      "metadata": {
        "colab": {
          "background_save": true
        },
        "id": "87oZm-5hPzEA"
      },
      "source": [
        "# TRAINING RESNET_6BLOCKS BUT SMALLER LEARNING RATE\n",
        "!python \"/content/drive/Shareddrives/DeepLearning_2021/Final Project/ImageTranslation/CycleGAN/train.py\" --dataroot \"/content/dataset\" --name NN4 --model cycle_gan --checkpoints_dir \"/content/drive/Shareddrives/DeepLearning_2021/Final Project/ImageTranslation/NN4\" --num_threads 2 --save_epoch_freq 5 --netG resnet_6blocks --preprocess none --lr 0.00002"
      ],
      "execution_count": null,
      "outputs": []
    },
    {
      "cell_type": "code",
      "metadata": {
        "id": "f1p4p83eHQ-x"
      },
      "source": [
        "# TESTING PREVIOUS NN\n",
        "!python \"/content/drive/Shareddrives/DeepLearning_2021/Final Project/ImageTranslation/CycleGAN/test.py\" --dataroot \"/content/dataset\" --name NN4 --model cycle_gan --results_dir \"/content/drive/Shareddrives/DeepLearning_2021/Final Project/ImageTranslation/results\" --checkpoints_dir \"/content/drive/Shareddrives/DeepLearning_2021/Final Project/ImageTranslation/NN4\" --netG resnet_6blocks"
      ],
      "execution_count": null,
      "outputs": []
    }
  ]
}