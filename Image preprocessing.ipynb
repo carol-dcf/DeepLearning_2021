{
 "cells": [
  {
   "cell_type": "markdown",
   "metadata": {},
   "source": [
    "## Image Preprocessing"
   ]
  },
  {
   "cell_type": "code",
   "execution_count": null,
   "metadata": {},
   "outputs": [],
   "source": [
    "import numpy as np\n",
    "import io\n",
    "from PIL import Image\n",
    "from shutil import copyfile\n",
    "import os"
   ]
  },
  {
   "cell_type": "markdown",
   "metadata": {},
   "source": [
    "#### Resize to 64x64 images"
   ]
  },
  {
   "cell_type": "code",
   "execution_count": null,
   "metadata": {},
   "outputs": [],
   "source": [
    "# source and destination of images to be resized\n",
    "source = ... # complete\n",
    "dest = ... # complete\n",
    "\n",
    "images = [file for file in os.listdir(source) if file.endswith(('jpeg', 'png', 'jpg'))]\n",
    "for image in images:\n",
    "    img = Image.open(source + '/' + image)\n",
    "    img.thumbnail((64,64))\n",
    "    img.save(dest + \"/resized_\" + image, optimize=True, quality=40)"
   ]
  },
  {
   "cell_type": "markdown",
   "metadata": {},
   "source": [
    "#### Move files from one folder to another"
   ]
  },
  {
   "cell_type": "code",
   "execution_count": null,
   "metadata": {},
   "outputs": [],
   "source": [
    "#Copy files from one folder to another\n",
    "files = os.listdir(source)\n",
    "for i in range(1000):\n",
    "    file = files[i]\n",
    "    copyfile(source + '/' + file, dest + '/' + file)"
   ]
  },
  {
   "cell_type": "markdown",
   "metadata": {},
   "source": [
    "#### Split a dataset in training and testing"
   ]
  },
  {
   "cell_type": "code",
   "execution_count": null,
   "metadata": {},
   "outputs": [],
   "source": [
    "# source and destination of test and training\n",
    "source = ... # complete\n",
    "test_path = ... # complete\n",
    "train_path = ... # complete\n",
    "\n",
    "files = os.listdir(source)\n",
    "i = 0\n",
    "while i < 100:\n",
    "    file = files[i]\n",
    "    copyfile(source + '/' + file, test_path + '/' + file)\n",
    "    i += 1\n",
    "while i < len(files):\n",
    "    file = files[i]\n",
    "    copyfile(source + '/' + file, train_path + '/' + file)\n",
    "    i += 1"
   ]
  },
  {
   "cell_type": "markdown",
   "metadata": {},
   "source": [
    "#### Remove background"
   ]
  },
  {
   "cell_type": "code",
   "execution_count": null,
   "metadata": {},
   "outputs": [],
   "source": [
    "# Remove background of all images in a file\n",
    "# source and destination of images\n",
    "source = ... # complete\n",
    "dest = ... # complete\n",
    "!rembg -p source dest"
   ]
  }
 ],
 "metadata": {
  "kernelspec": {
   "display_name": "Python 3",
   "language": "python",
   "name": "python3"
  },
  "language_info": {
   "codemirror_mode": {
    "name": "ipython",
    "version": 3
   },
   "file_extension": ".py",
   "mimetype": "text/x-python",
   "name": "python",
   "nbconvert_exporter": "python",
   "pygments_lexer": "ipython3",
   "version": "3.7.6"
  }
 },
 "nbformat": 4,
 "nbformat_minor": 2
}
